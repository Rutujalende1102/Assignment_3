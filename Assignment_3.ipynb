{
 "cells": [
  {
   "cell_type": "code",
   "execution_count": null,
   "id": "c96ba04c-6476-4fc9-a66c-32416509e47f",
   "metadata": {},
   "outputs": [],
   "source": [
    "Perform Below tasks. The assignment will be evaluated on the basis of number of tasks you perform\n",
    "\n",
    "\n",
    "1.Create a Vehicle class with max_speed and mileage instance attributes  (2 marks)\n",
    "2.Create a Bus class that inherits from the Vehicle class. Give the capacity argument of Bus.seating_capacity() a default value of 50. (6 marks)\n",
    "\n",
    "3.Define property that should have the same value for every class instance (2 marks)\n",
    "4.Create a Bus child class that inherits from the Vehicle class. \n",
    "The default fare charge of any vehicle is seating capacity * 100. \n",
    "If Vehicle is Bus instance, we need to add an extra 10% on full fare as a maintenance charge.\n",
    "So total fare for bus instance will become the final amount = total fare + 10% of the total fare. (10 marks)\n"
   ]
  },
  {
   "cell_type": "code",
   "execution_count": null,
   "id": "841dd8df-1c18-42c2-9cbd-0e480ec70d15",
   "metadata": {},
   "outputs": [],
   "source": [
    "1.Create a Vehicle class with max_speed and mileage instance attributes  (2 marks)"
   ]
  },
  {
   "cell_type": "code",
   "execution_count": 19,
   "id": "42bb089f-5ddf-4a90-a200-36ccf6c735bc",
   "metadata": {},
   "outputs": [
    {
     "name": "stdout",
     "output_type": "stream",
     "text": [
      "120 70000\n"
     ]
    }
   ],
   "source": [
    "class Vehicle:\n",
    "    def __init__(self,max_speed,mileage):\n",
    "        self.max_speed=max_speed\n",
    "        self.mileage=mileage\n",
    "\n",
    "\n",
    "car=Vehicle(120,70000)\n",
    "print(car.max_speed,car.mileage)\n",
    "   "
   ]
  },
  {
   "cell_type": "code",
   "execution_count": 21,
   "id": "c7204cf5-670e-472b-839e-14e1ae348c3b",
   "metadata": {},
   "outputs": [],
   "source": [
    "#2 Create a Bus class that inherits from the Vehicle class.\n",
    "Give the capacity argument of\n",
    "Bus.seating_capacity() a default value of 50. (6 marks)"
   ]
  },
  {
   "cell_type": "code",
   "execution_count": 23,
   "id": "598aea16-a00c-4e7b-a0ef-d8e3a8174fcc",
   "metadata": {},
   "outputs": [],
   "source": [
    "class Vehicle:\n",
    "    def __init__(self,name,max_speed,mileage):\n",
    "        self.name=name\n",
    "        self.max_speed=max_speed\n",
    "        self.mileage=mileage\n",
    "    def seating_capacity(self,capacity): \n",
    "        return f\"The seating capacity of a {self.name} is {capacity} passengers\"\n"
   ]
  },
  {
   "cell_type": "code",
   "execution_count": 25,
   "id": "c45ea7b9-b817-4b20-9d9f-e231fc0fa2f5",
   "metadata": {},
   "outputs": [
    {
     "data": {
      "text/plain": [
       "'The seating capacity of a School busis a 50 passengers'"
      ]
     },
     "execution_count": 25,
     "metadata": {},
     "output_type": "execute_result"
    }
   ],
   "source": [
    "class bus(Vehicle):\n",
    "    def seating_capacity(self,capacity=50):\n",
    "        return f\"The seating capacity of a {self.name}is a {capacity} passengers\"\n",
    "bus (\"School bus\",150,3700).seating_capacity()"
   ]
  },
  {
   "cell_type": "code",
   "execution_count": null,
   "id": "aa9c2664-ced1-4340-b4b4-da6b91a55483",
   "metadata": {},
   "outputs": [],
   "source": [
    "3.Define property that should have the same value for every class instance (2 marks)\n",
    "                                               "
   ]
  },
  {
   "cell_type": "code",
   "execution_count": 31,
   "id": "7b9c0f9e-85d6-40c3-b745-819dd8e5b597",
   "metadata": {},
   "outputs": [
    {
     "data": {
      "text/plain": [
       "'Blue'"
      ]
     },
     "execution_count": 31,
     "metadata": {},
     "output_type": "execute_result"
    }
   ],
   "source": [
    "class Vehicle:\n",
    "    color ='Blue'\n",
    "    def __init__(self,name,max_speed,mileage):\n",
    "     self.name = name\n",
    "     self.max_speed = max_speed\n",
    "     self.mileage = mileage\n",
    "class Bus(Vehicle):\n",
    "    pass\n",
    "class Car(Vehicle):\n",
    "    pass\n",
    "\n",
    "Bus ('r',350,4300)\n",
    "Bus.color"
   ]
  },
  {
   "cell_type": "code",
   "execution_count": null,
   "id": "0951f084-28a6-4b20-863d-9a7cb3301c14",
   "metadata": {},
   "outputs": [],
   "source": [
    "4.Create a Bus child class that inherits from the Vehicle class. \n",
    "The default fare charge of any vehicle is seating capacity * 100. \n",
    "If Vehicle is Bus instance, we need to add an extra 10% on full fare as a maintenance charge.\n",
    "So total fare for bus instance will become the final amount = total fare + 10% of the total fare. (10 marks)"
   ]
  },
  {
   "cell_type": "code",
   "execution_count": 35,
   "id": "bdb6a215-0d46-4a24-bf28-02e26b238265",
   "metadata": {},
   "outputs": [],
   "source": [
    "class Vehicle:\n",
    "    def __init__(self,name,mileage,capacity):\n",
    "       self.name = name\n",
    "       self.mileage = mileage\n",
    "       self.capacity= capacity\n",
    "    def fare(self):\n",
    "        return self.capacity*100\n",
    "    "
   ]
  },
  {
   "cell_type": "code",
   "execution_count": 37,
   "id": "15aa3dd9-01b2-48e9-bb89-88f8eaec8063",
   "metadata": {},
   "outputs": [
    {
     "name": "stdout",
     "output_type": "stream",
     "text": [
      "Total Bus fare is : 495000\n"
     ]
    }
   ],
   "source": [
    "class Bus(Vehicle):\n",
    "     def fare(self):\n",
    "         fare_car = self.capacity*100\n",
    "         tot_fare = fare_car +(10* fare_car)\n",
    "         return tot_fare\n",
    "\n",
    "School_bus = Bus(\"School Komal\",35,450)\n",
    "print(\"Total Bus fare is :\",School_bus.fare())"
   ]
  },
  {
   "cell_type": "code",
   "execution_count": null,
   "id": "c1f3bd5e-8250-4694-bafa-22d6676dc95d",
   "metadata": {},
   "outputs": [],
   "source": []
  }
 ],
 "metadata": {
  "kernelspec": {
   "display_name": "Python 3 (ipykernel)",
   "language": "python",
   "name": "python3"
  },
  "language_info": {
   "codemirror_mode": {
    "name": "ipython",
    "version": 3
   },
   "file_extension": ".py",
   "mimetype": "text/x-python",
   "name": "python",
   "nbconvert_exporter": "python",
   "pygments_lexer": "ipython3",
   "version": "3.12.4"
  }
 },
 "nbformat": 4,
 "nbformat_minor": 5
}
